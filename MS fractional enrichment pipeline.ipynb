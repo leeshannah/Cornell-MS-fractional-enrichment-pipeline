{
 "cells": [
  {
   "cell_type": "code",
   "execution_count": null,
   "metadata": {
    "scrolled": true
   },
   "outputs": [],
   "source": [
    "#Set notebook figure print parameters\n",
    "options(repr.plot.width=20, repr.plot.height=80, repr.plot.res = 400, repr.plot.quality = 500, repr.plot.pointsize = 12)\n",
    "\n",
    "# Set working directory\n",
    "#setwd('/Users/leesh/Documents/MS analysis pipeline/Rachels results/')\n",
    "\n",
    "#install.packages(\"ggplot2\",repos='http://cran.us.r-project.org',dependencies = TRUE)\n",
    "#install.packages(\"dplyr\",repos='http://cran.us.r-project.org',dependencies = TRUE)\n",
    "#install.packages(\"reshape\",repos='http://cran.us.r-project.org',dependencies = TRUE)\n",
    "#install.packages(\"readxl\",repos='http://cran.us.r-project.org',dependencies = TRUE)\n",
    "#install.packages(\"tidyr\",repos='http://cran.us.r-project.org',dependencies = TRUE)\n",
    "#install.packages(\"data.table\",repos='http://cran.us.r-project.org',dependencies = TRUE)\n",
    "#install.packages(\"reshape2\",repos='http://cran.us.r-project.org',dependencies = TRUE)\n",
    "#install.packages(\"Polychrome\",repos='http://cran.us.r-project.org',dependencies = TRUE)\n",
    "#install.packages(\"here\",repos='http://cran.us.r-project.org',dependencies = TRUE)\n",
    "#install.packages(\"factoextra\",repos='http://cran.us.r-project.org',dependencies = TRUE)\n"
   ]
  },
  {
   "cell_type": "code",
   "execution_count": null,
   "metadata": {
    "scrolled": true
   },
   "outputs": [],
   "source": [
    "# Load packages\n",
    "\n",
    "library ('ggplot2')\n",
    "library(\"dplyr\")\n",
    "library(\"reshape\")\n",
    "library('readxl')\n",
    "library('tidyr')\n",
    "library (\"data.table\")\n",
    "library('reshape2')\n",
    "library(\"Polychrome\")\n",
    "library('factoextra')\n",
    "library('here')pca"
   ]
  },
  {
   "cell_type": "markdown",
   "metadata": {},
   "source": [
    "## Import data and reshape into tidy format (rows are samples, columns are metabolite intensities)"
   ]
  },
  {
   "cell_type": "code",
   "execution_count": null,
   "metadata": {},
   "outputs": [],
   "source": [
    "# Import data from WCM Ms excel spreadsheet\n",
    "MS_Int <- read_excel('/Users/leesh/Documents/MS analysis pipeline/Rachels results/RC755_IntensityReport.xlsx')\n",
    "\n",
    "# Transpose and correct row and column names\n",
    "t_MS_Int<- transpose(MS_Int)\n",
    "colnames(t_MS_Int) <- rownames(MS_Int)\n",
    "rownames(t_MS_Int) <- colnames(MS_Int)\n",
    "\n",
    "# Make first row column names\n",
    "names(t_MS_Int) <- as.matrix(t_MS_Int[1, ])\n",
    "t_MS_Int <- t_MS_Int[-1, ]\n",
    "t_MS_Int[] <- lapply(t_MS_Int, function(x) type.convert(as.character(x)))\n",
    "\n",
    "t_MS_Int                            "
   ]
  },
  {
   "cell_type": "code",
   "execution_count": null,
   "metadata": {
    "scrolled": true
   },
   "outputs": [],
   "source": [
    "# Create column name for sample labels\n",
    "setDT(t_MS_Int, keep.rownames = \"Condition_Replicate\")\n",
    "                     \n",
    "# Split first column into 2 columns: condition and replicate number\n",
    "t_MS_Int <-t_MS_Int %>%\n",
    "  separate(Condition_Replicate, c(\"Condition\", \"replicate\"), \"_\")\n",
    "\n",
    "# Create a new first column: Sample ID\n",
    "t_MS_Int <- tibble::rowid_to_column(t_MS_Int, \"SampleID\")\n",
    "\n",
    "# Reshape data wide > long to be able to separate compound and labelling M+\n",
    "long_MS_Int <- melt(t_MS_Int, id.vars = c(\"SampleID\", \"Condition\", \"replicate\"))                    \n",
    "colnames(long_MS_Int) <- c(\"SampleID\", \"Condition\", \"replicate\", \"compound_labeling\", \"intensity\")\n",
    "\n",
    "# Split compound labelling column into compound and labelling M+\n",
    "long_MS_Int <-long_MS_Int %>%\n",
    "  separate(compound_labeling, c(\"compound\", \"labeling\"), \"_\")\n",
    "\n",
    "# Reshape data long > wide so that now each column is a compound \n",
    "wide_MS_Int <- dcast(long_MS_Int, SampleID + Condition +replicate +labeling ~ compound, value.var=\"intensity\")\n",
    "                                        \n",
    "# Rename compounds to clean odd characters that can't be parsed e.g. L-Serine\n",
    "colnames(wide_MS_Int) <- make.names(colnames(wide_MS_Int))\n",
    "\n",
    "# Remove metabolites that have not been detected\n",
    "MS_detected <- wide_MS_Int [, colSums(wide_MS_Int != 0, na.rm = TRUE) > 0]   \n",
    "\n",
    "MS_detected"
   ]
  },
  {
   "cell_type": "markdown",
   "metadata": {},
   "source": [
    "## Change order of conditions and data labels for graphs - optional"
   ]
  },
  {
   "cell_type": "code",
   "execution_count": null,
   "metadata": {},
   "outputs": [],
   "source": [
    "# Change order of conditons for graphing\n",
    "\n",
    "#MS_detected$Condition <- factor(MS_detected$Condition, c(\"CtrlIntact\",\"CtrlSC\", \"RESTSC\", \"CDH1SC\"))\n",
    "\n",
    "# Rename condition labels\n",
    "\n",
    "#MS_detected$Condition <- recode_factor(MS_detected$Condition, CtrlIntact  = \"Intact\", CtrlSC = \"Single cells\", RESTSC = \"shREST SC\", CDH1SC = \"shCDH1 SC\")\n",
    "\n"
   ]
  },
  {
   "cell_type": "markdown",
   "metadata": {},
   "source": [
    "# Filter out metabolites where there is no fractional enrichment (m+0 = total pool size)"
   ]
  },
  {
   "cell_type": "code",
   "execution_count": null,
   "metadata": {
    "scrolled": false
   },
   "outputs": [],
   "source": [
    "# Sum each sample (sampleID) M+ = total pool size intensity per sample\n",
    "# Adds a row of these totals at bottom of table\n",
    "\n",
    "MS_detected_Totals <-MS_detected %>%\n",
    "group_by(SampleID, Condition, replicate) %>% \n",
    "  bind_rows(summarise(.,\n",
    "                      across(where(is.numeric), sum,na.rm = TRUE),\n",
    "                      across(where(is.character), ~\"Total\")))\n",
    "\n",
    "# reshape data wide > long to be able to compare labelling\n",
    "long_All <- melt(MS_detected_Totals, id.vars = c(\"SampleID\", \"Condition\", \"replicate\", \"labeling\"))                    \n",
    "colnames(long_All) <- c(\"SampleID\", \"Condition\", \"replicate\", \"labeling\", \"metabolite\", \"intensity\")\n",
    "\n",
    "# Reshape data long > wide so that now each column is 0, 1, 2...., Total labeling\n",
    "\n",
    "wide_All <- dcast(long_All, SampleID + Condition + replicate + metabolite ~ labeling, value.var=\"intensity\")\n",
    "\n",
    "# Have to rename \"0\" column as R gets confused with columns labelled as numbers\n",
    "\n",
    "colnames(wide_All)[colnames(wide_All) == \"0\"] <- \"zero\"\n",
    "\n",
    "# Select only rows where total > 0 labeling = metabolites which show fractional enrichment\n",
    "\n",
    "OnlyFE_metabolites <- wide_All %>%\n",
    "filter (Total > zero)\n",
    "\n",
    "# Create a summary table showing which metabolites are enriched and in how many samples. Save as a csv\n",
    "\n",
    "OnlyFE_metabolitesSummary <- OnlyFE_metabolites %>%\n",
    "    group_by(metabolite) %>%\n",
    "    summarize(No.SamplesWithEnrichment = n())\n",
    "OnlyFE_metabolitesSummary \n",
    "\n",
    "write.csv(OnlyFE_metabolitesSummary, file = \"OnlyFE_metabolitesSummary.csv\")\n",
    "\n",
    "# Create a summary table for how many metabolites were measured, detected and enriched\n",
    "summary <- data.frame (Number_of_metabolites  = c(\"Measured\", \"Detected\", \"Enriched\"),\n",
    "                  Count = c(ncol(wide_MS_Int)-4, ncol(MS_detected)-4,nrow(OnlyFE_metabolitesSummary))\n",
    "                  )\n",
    "summary\n"
   ]
  },
  {
   "cell_type": "markdown",
   "metadata": {},
   "source": [
    "# Select only the metabolites that are enriched from MS_detected for data visualization and stats"
   ]
  },
  {
   "cell_type": "code",
   "execution_count": null,
   "metadata": {
    "scrolled": true
   },
   "outputs": [],
   "source": [
    "# Select only the metabolites that are enriched from MS_detected\n",
    "\n",
    "Selected_FE <- MS_detected %>% select(one_of(dput(as.character(OnlyFE_metabolitesSummary$metabolite))))\n",
    "\n",
    "# Bind metadata (select which columns from MS_detected are metadata)\n",
    "\n",
    "MS_detected_meta <- MS_detected %>% select (1:4)\n",
    "\n",
    "MS_FE <-cbind(MS_detected_meta, Selected_FE)  \n",
    "\n",
    "\n",
    "MS_FE"
   ]
  },
  {
   "cell_type": "markdown",
   "metadata": {
    "scrolled": true
   },
   "source": [
    "## Palette for FE graphs\n",
    "\n"
   ]
  },
  {
   "cell_type": "code",
   "execution_count": null,
   "metadata": {},
   "outputs": [],
   "source": [
    "set.seed(723451) # for reproducibility\n",
    "P30_2 <- createPalette(30, c(\"#00ffff\", \"#ff00ff\", \"#ffff00\"), M=1000)\n",
    "#swatch(P30_2)\n",
    "names(P30_2) <- NULL\n",
    "P30_2"
   ]
  },
  {
   "cell_type": "code",
   "execution_count": null,
   "metadata": {},
   "outputs": [],
   "source": [
    "StackPalette_M1 <- c( '#EE2EE8','#F0E716','#FF0D45','#78454B','#2E51FB','#3DFD66','#E87600','#D10D7E','#C7A7FE','#689F60','#FCDAAF','#224F63','#D4DDEB','#FFA3D6','#1CA9FB','#B61CFC','#7A267D','#47F8B5','#E2767A','#651CB2','#97D61C','#EE515A','#E9A54F','#4FA2C9','#FF91FB','#2EA797','#CFDD7D','#66633D','#2A4D95')\n",
    "#swatch(StackPalette_M1)"
   ]
  },
  {
   "cell_type": "code",
   "execution_count": null,
   "metadata": {
    "scrolled": false
   },
   "outputs": [],
   "source": [
    "# Long version of MS_FE for facet-graphs\n",
    "\n",
    "Long_MS_FE <- melt(MS_FE, id.vars = c(\"SampleID\", \"Condition\", \"replicate\", \"labeling\"))                    \n",
    "colnames(Long_MS_FE) <- c(\"SampleID\", \"Condition\", \"replicate\", \"labeling\", \"metabolite\", \"intensity\")\n",
    "\n",
    "Long_MS_FE$labeling <- factor(Long_MS_FE$labeling,levels= c(\"0\",'1',\t'2',\t'3',\t'4',\t'5',\t'6',\t'7',\t'8',\t'9',\t'10',\t'11',\t'12',\t'13',\t'14',\t'15',\t'16',\t'17',\t'18',\t'19',\t'20',\t'21',\t'22',\t'23',\t'24',\t'25',\t'26',\t'27'))\n"
   ]
  },
  {
   "cell_type": "code",
   "execution_count": null,
   "metadata": {
    "scrolled": true
   },
   "outputs": [],
   "source": [
    "# Absolute values: Stacked bar plot with y scale fixed across metabolites\n",
    "ggplot(Long_MS_FE, aes(fill= labeling, y=intensity, x=Condition)) + \n",
    " geom_bar(aes(fill = labeling), position = position_stack(reverse = TRUE), stat=\"identity\") +\n",
    "\n",
    "labs(title=\"Absolute values of C13 labelling\n",
    "(Mean)\",subtitle = \"y scale fixed across metabolites\",x=\"\", y = \"Absolute intensity\")+theme_classic()+\n",
    "\n",
    "theme(axis.text.x=element_text(size=rel(3), angle=90))+\n",
    "scale_fill_manual(values = P30_2)+\n",
    "facet_wrap(~metabolite, ncol =5)+\n",
    "theme(strip.text.x = element_text(size = 18, colour = \"black\", angle = 0))\n",
    "\n"
   ]
  },
  {
   "cell_type": "code",
   "execution_count": null,
   "metadata": {
    "scrolled": true
   },
   "outputs": [],
   "source": [
    "# Absolute values: Stacked bar plot with y scale adjusted across metabolites\n",
    "\n",
    "ggplot(Long_MS_FE, aes(fill= labeling, y=intensity, x=Condition)) + \n",
    " geom_bar(aes(fill = labeling), position = position_stack(reverse = TRUE), stat=\"identity\") +\n",
    "labs(title=\"Absolute values of C13 labelling\n",
    "(Mean)\",subtitle = \"y scale relative to metabolite\",x=\"\", y = \"Absolute intensity\")+theme_classic()+\n",
    "theme(axis.text.x=element_text(size=rel(2), angle=0))+\n",
    "scale_fill_manual(values = P30_2)+\n",
    "facet_wrap(~metabolite, ncol =5, scales=\"free\")+\n",
    "theme(strip.text.x = element_text(size = 18, colour = \"black\", angle = 0))"
   ]
  },
  {
   "cell_type": "code",
   "execution_count": null,
   "metadata": {
    "scrolled": true
   },
   "outputs": [],
   "source": [
    "# Normalized values: Stacked bar plot with y scale fixed across metabolites\n",
    "ggplot(Long_MS_FE, aes(fill= labeling, y=intensity, x=Condition)) + \n",
    " geom_bar(aes(fill = labeling), position = position_fill(reverse = TRUE), stat=\"identity\") +\n",
    "labs(title=\"Relative values of C13 labelling\n",
    "(Mean)\",x=\"\", y = \"Absolute intensity\")+theme_classic()+\n",
    "theme(axis.text.x=element_text(size=rel(3), angle=90))+\n",
    "scale_fill_manual(values = P30_2)+\n",
    "facet_wrap(~metabolite, ncol =5)+\n",
    "theme(strip.text.x = element_text(size = 18, colour = \"black\", angle = 0))"
   ]
  },
  {
   "cell_type": "markdown",
   "metadata": {},
   "source": [
    "## Save graphs as PDF"
   ]
  },
  {
   "cell_type": "code",
   "execution_count": null,
   "metadata": {},
   "outputs": [],
   "source": [
    "pdf(file = \"AllFE.pdf\", width = 20, height = 50, family = \"Helvetica\") \n",
    "\n",
    "# Absolute values: Stacked bar plot with y scale fixed across metabolites\n",
    "ggplot(Long_MS_FE, aes(fill= labeling, color = labeling, y=intensity, x=Condition)) + \n",
    " geom_bar(aes(fill = labeling), position = position_stack(reverse = TRUE), stat=\"identity\") +\n",
    "labs(title=\"Absolute values of C13 labelling\n",
    "(Mean)\",subtitle = \"y scale fixed across metabolites\", x=\"\", y = \"Absolute intensity\")+theme_classic()+\n",
    "theme(axis.text.x=element_text(size=rel(3), angle=90))+\n",
    "scale_fill_manual(values = P30_2)+\n",
    "scale_color_manual(values = P30_2)+\n",
    "facet_wrap(~metabolite, ncol =5)+\n",
    "theme(strip.text.x = element_text(size = 12, colour = \"black\", angle = 0))\n",
    "\n",
    "\n",
    "# Absolute values: Stacked bar plot with y scale adjusted across metabolites\n",
    "\n",
    "ggplot(Long_MS_FE, aes(fill= labeling, color = labeling, y=intensity, x=Condition)) + \n",
    " geom_bar(aes(fill = labeling), position = position_stack(reverse = TRUE), stat=\"identity\") +\n",
    "labs(title=\"Absolute values of C13 labelling\n",
    "(Mean)\",subtitle = \"y scale relative to metabolite\",x=\"\", y = \"Absolute intensity\")+theme_classic()+\n",
    "theme(axis.text.x=element_text(size=rel(2), angle=0))+\n",
    "scale_fill_manual(values = P30_2)+\n",
    "scale_color_manual(values = P30_2)+\n",
    "facet_wrap(~metabolite, ncol =5, scales=\"free\")+\n",
    "theme(strip.text.x = element_text(size = 12, colour = \"black\", angle = 0))\n",
    "\n",
    "\n",
    "\n",
    "# Normalized values: Stacked bar plot with y scale fixed across metabolites\n",
    "ggplot(Long_MS_FE, aes(fill= labeling, color = labeling, y=intensity, x=Condition)) + \n",
    " geom_bar(aes(fill = labeling), position = position_fill(reverse = TRUE), stat=\"identity\") +\n",
    "labs(title=\"Relative values of C13 labelling\n",
    "(Mean)\",x=\"\", y = \"Absolute intensity\")+theme_classic()+\n",
    "theme(axis.text.x=element_text(size=rel(3), angle=90))+\n",
    "scale_fill_manual(values = P30_2)+\n",
    "scale_color_manual(values = P30_2)+\n",
    "facet_wrap(~metabolite, ncol =5)+\n",
    "theme(strip.text.x = element_text(size = 12, colour = \"black\", angle = 0))\n",
    "\n",
    "dev.off()\n"
   ]
  },
  {
   "cell_type": "markdown",
   "metadata": {},
   "source": [
    "# Plots showing only enriched metabolites (M+1 and up)"
   ]
  },
  {
   "cell_type": "code",
   "execution_count": null,
   "metadata": {
    "scrolled": true
   },
   "outputs": [],
   "source": [
    "MS_FE$labeling <- as.numeric(MS_FE$labeling)\n",
    "\n",
    "MS_FE_M_Higher <- MS_FE %>%\n",
    "filter(!((labeling == 0)))\n",
    "\n",
    "MS_FE_M_Higher$labeling <- as.character(MS_FE_M_Higher$labeling)\n",
    "\n",
    "# Long version of MS_FE for facet-graphs\n",
    "\n",
    "Long_MS_FE_M_Higher <- melt(MS_FE_M_Higher, id.vars = c(\"SampleID\", \"Condition\", \"replicate\", \"labeling\"))                    \n",
    "colnames(Long_MS_FE_M_Higher) <- c(\"SampleID\", \"Condition\", \"replicate\", \"labeling\", \"metabolite\", \"intensity\")\n",
    "\n",
    "Long_MS_FE_M_Higher$labeling <- factor(Long_MS_FE_M_Higher$labeling,levels= c('1',\t'2',\t'3',\t'4',\t'5',\t'6',\t'7',\t'8',\t'9',\t'10',\t'11',\t'12',\t'13',\t'14',\t'15',\t'16',\t'17',\t'18',\t'19',\t'20',\t'21',\t'22',\t'23',\t'24',\t'25',\t'26',\t'27'))\n"
   ]
  },
  {
   "cell_type": "code",
   "execution_count": null,
   "metadata": {
    "scrolled": true
   },
   "outputs": [],
   "source": [
    "# Absolute values: Stacked bar plot with y scale fixed across metabolites\n",
    "ggplot(Long_MS_FE_M_Higher, aes(fill= labeling, y=intensity, x=Condition)) + \n",
    " geom_bar(aes(fill = labeling), position = position_stack(reverse = TRUE), stat=\"identity\") +\n",
    "\n",
    "labs(title=\"Absolute values of C13 labelling: M+1 isotopologues and above\n",
    "(Mean)\",subtitle = \"y scale fixed across metabolites\",x=\"\", y = \"Absolute intensity\")+theme_classic()+\n",
    "\n",
    "theme(axis.text.x=element_text(size=rel(3), angle=90))+\n",
    "scale_fill_manual(values = StackPalette_M1)+\n",
    "facet_wrap(~metabolite, ncol =5)+\n",
    "theme(strip.text.x = element_text(size = 18, colour = \"black\", angle = 0))\n",
    "\n"
   ]
  },
  {
   "cell_type": "code",
   "execution_count": null,
   "metadata": {
    "scrolled": true
   },
   "outputs": [],
   "source": [
    "# Absolute values: Stacked bar plot with y scale adjusted across metabolites\n",
    "# Attempt to remove white horizontal lines \n",
    "\n",
    "ggplot(Long_MS_FE_M_Higher, aes(fill= labeling, y=intensity, x=Condition)) + \n",
    " geom_bar(aes(fill = labeling), position = position_stack(reverse = TRUE), stat=\"identity\") +\n",
    "labs(title=\"Absolute values of C13 labelling: M+1 isotopologues and above\n",
    "(Mean)\",subtitle = \"y scale relative to metabolite\",x=\"\", y = \"Absolute intensity\")+theme_classic()+\n",
    "theme(axis.text.x=element_text(size=rel(2), angle=0))+\n",
    "scale_fill_manual(values =StackPalette_M1)+\n",
    "facet_wrap(~metabolite, ncol =5, scales=\"free\")+\n",
    "theme(strip.text.x = element_text(size = 18, colour = \"black\", angle = 0))\n",
    "\n",
    "\n"
   ]
  },
  {
   "cell_type": "code",
   "execution_count": null,
   "metadata": {
    "scrolled": true
   },
   "outputs": [],
   "source": [
    "# Normalized values: Stacked bar plot with y scale fixed across metabolites\n",
    "ggplot(Long_MS_FE_M_Higher, aes(fill= labeling, y=intensity, x=Condition)) + \n",
    " geom_bar(aes(fill = labeling), position = position_fill(reverse = TRUE), stat=\"identity\") +\n",
    "labs(title=\"Relative values of C13 labelling: M+1 isotopologues and above\n",
    "(Mean)\",x=\"\", y = \"Absolute intensity\")+theme_classic()+\n",
    "theme(axis.text.x=element_text(size=rel(3), angle=90))+\n",
    "scale_fill_manual(values = StackPalette_M1)+\n",
    "facet_wrap(~metabolite, ncol =5)+\n",
    "theme(strip.text.x = element_text(size = 18, colour = \"black\", angle = 0))"
   ]
  },
  {
   "cell_type": "markdown",
   "metadata": {},
   "source": [
    "## Save graphs as PDF"
   ]
  },
  {
   "cell_type": "code",
   "execution_count": null,
   "metadata": {},
   "outputs": [],
   "source": [
    "pdf(file = \"OnlyFE_isotopologues.pdf\", width = 20, height = 50, family = \"Helvetica\") \n",
    "\n",
    "# Absolute values: Stacked bar plot with y scale fixed across metabolites\n",
    "ggplot(Long_MS_FE_M_Higher, aes(fill= labeling, color = labeling, y=intensity, x=Condition)) + \n",
    " geom_bar(aes(fill = labeling), position = position_stack(reverse = TRUE), stat=\"identity\") +\n",
    "labs(title=\"Absolute values of C13 labelling: M+1 isotopologues and above\n",
    "(Mean)\",subtitle = \"y scale fixed across metabolites\", x=\"\", y = \"Absolute intensity\")+theme_classic()+\n",
    "theme(axis.text.x=element_text(size=rel(3), angle=90))+\n",
    "scale_fill_manual(values = StackPalette_M1)+\n",
    "scale_color_manual(values = StackPalette_M1)+\n",
    "facet_wrap(~metabolite, ncol =5)+\n",
    "theme(strip.text.x = element_text(size = 12, colour = \"black\", angle = 0))\n",
    "\n",
    "\n",
    "# Absolute values: Stacked bar plot with y scale adjusted across metabolites\n",
    "\n",
    "ggplot(Long_MS_FE_M_Higher, aes(fill= labeling, color = labeling, y=intensity, x=Condition)) + \n",
    " geom_bar(aes(fill = labeling), position = position_stack(reverse = TRUE), stat=\"identity\") +\n",
    "labs(title=\"Absolute values of C13 labelling: M+1 isotopologues and above\n",
    "(Mean)\",subtitle = \"y scale relative to metabolite\",x=\"\", y = \"Absolute intensity\")+theme_classic()+\n",
    "theme(axis.text.x=element_text(size=rel(2), angle=0))+\n",
    "scale_fill_manual(values = StackPalette_M1)+\n",
    "scale_color_manual(values = StackPalette_M1)+\n",
    "facet_wrap(~metabolite, ncol =5, scales=\"free\")+\n",
    "theme(strip.text.x = element_text(size = 12, colour = \"black\", angle = 0))\n",
    "\n",
    "\n",
    "\n",
    "# Normalized values: Stacked bar plot with y scale fixed across metabolites\n",
    "ggplot(Long_MS_FE_M_Higher, aes(fill= labeling, color = labeling, y=intensity, x=Condition)) + \n",
    " geom_bar(aes(fill = labeling), position = position_fill(reverse = TRUE), stat=\"identity\") +\n",
    "labs(title=\"Relative values of C13 labelling: M+1 isotopologues and above\n",
    "(Mean)\",x=\"\", y = \"Absolute intensity\")+theme_classic()+\n",
    "theme(axis.text.x=element_text(size=rel(3), angle=90))+\n",
    "scale_fill_manual(values = StackPalette_M1)+\n",
    "scale_color_manual(values = StackPalette_M1)+\n",
    "facet_wrap(~metabolite, ncol =5)+\n",
    "theme(strip.text.x = element_text(size = 12, colour = \"black\", angle = 0))\n",
    "\n",
    "dev.off()\n"
   ]
  },
  {
   "cell_type": "markdown",
   "metadata": {},
   "source": [
    "# Pool size analysis"
   ]
  },
  {
   "cell_type": "markdown",
   "metadata": {},
   "source": [
    "### Create a table of pool size measurements that can be used for further analysis"
   ]
  },
  {
   "cell_type": "code",
   "execution_count": null,
   "metadata": {
    "scrolled": true
   },
   "outputs": [],
   "source": [
    "# Create a new tabel (\"poolsizeTable\") pool sizes (summed M+ values) per sample\n",
    "poolsizeTable <- wide_MS_Int %>% \n",
    "  group_by(Condition, replicate, SampleID) %>% \n",
    "summarise(across(where(is.numeric), sum, na.rm = TRUE))%>% ungroup() \n",
    "\n",
    "poolsizeTable$Condition_replicate <- paste(poolsizeTable$Condition,\"-\", poolsizeTable$replicate)\n",
    "poolsizeTable <- poolsizeTable %>%\n",
    "  select(Condition_replicate, everything())\n",
    "\n",
    "# Remove metabolites that have not been detected\n",
    "poolsizeTable_noZ <- poolsizeTable[, colSums(poolsizeTable != 0) > 0]\n",
    "\n",
    "# Remove columns you don't need\n",
    "poolsizeTable_noZ <-  poolsizeTable_noZ %>% ungroup() %>% select(!c(replicate, SampleID, Condition))\n",
    "\n",
    "# Transpose and correct row and column names\n",
    "t_poolsizeTable_noZ <- transpose(poolsizeTable_noZ )\n",
    "colnames(t_poolsizeTable_noZ) <- rownames(poolsizeTable_noZ)\n",
    "rownames(t_poolsizeTable_noZ) <- colnames(poolsizeTable_noZ)\n",
    "\n",
    "# Make first row column names\n",
    "names(t_poolsizeTable_noZ) <- as.matrix(t_poolsizeTable_noZ[1, ])\n",
    "t_poolsizeTable_noZ <- t_poolsizeTable_noZ[-1, ]\n",
    "t_poolsizeTable_noZ[] <- lapply(t_poolsizeTable_noZ, function(x) type.convert(as.character(x)))\n",
    "\n",
    "# Make row name compound name\n",
    "t_poolsizeTable_noZ <- setDT(t_poolsizeTable_noZ, keep.rownames = \"Compound\")\n",
    "                                \n",
    "# Reshape data wide > long \n",
    "long_poolsize <- melt(t_poolsizeTable_noZ , id.vars = c(\"Compound\"))                    \n",
    "colnames(long_poolsize) <- c(\"Compound\", \"sample\", \"intensity\")              \n",
    "\n",
    "# Split sample column into 2 columns: condition and replicate number\n",
    "long_poolsize <-long_poolsize %>%\n",
    "  separate(sample, c(\"Condition\", \"replicate\"), \"-\")\n",
    "\n",
    "         \n"
   ]
  },
  {
   "cell_type": "markdown",
   "metadata": {},
   "source": [
    "## PCA - univariate scaling (metabolite intensities normalized to be comparable)"
   ]
  },
  {
   "cell_type": "code",
   "execution_count": null,
   "metadata": {},
   "outputs": [],
   "source": [
    "# Reshape data long > wide so that now each row is a sample and each column is a metabolite\n",
    "wide_PS <- dcast(long_poolsize,  Condition + replicate ~ Compound, value.var=\"intensity\")\n",
    "\n",
    "# Create a new first column: Sample ID\n",
    "wide_PS <- tibble::rowid_to_column(wide_PS, \"SampleID\")\n",
    "\n",
    "# Make first column row names\n",
    "dataNamed_PS <- wide_PS[,-1]\n",
    "rownames(dataNamed_PS) <- wide_PS[,1]\n",
    "\n",
    "dataNamed_PS"
   ]
  },
  {
   "cell_type": "code",
   "execution_count": null,
   "metadata": {},
   "outputs": [],
   "source": [
    "# Select just the columns of X data (not qualitative metadata)\n",
    "Data_X_PS<- dataNamed_PS[3:148]\n",
    "head (Data_X_PS)\n",
    "\n",
    "# Compute PCA (scale = TRUE for UV and FALSE for MC)\n",
    "res.pca <- prcomp(Data_X_PS, scale = TRUE )"
   ]
  },
  {
   "cell_type": "code",
   "execution_count": null,
   "metadata": {},
   "outputs": [],
   "source": [
    "# Visualize eigenvalues (scree plot). Show the percentage of variances explained by each principal component.\n",
    "#fviz_eig(res.pca)\n",
    "\n",
    "options(repr.plot.width=8, repr.plot.height=8, repr.plot.res = 200, repr.plot.quality = 300, repr.plot.pointsize = 12)\n",
    "\n",
    "\n",
    "fviz_eig(res.pca, addlabels = TRUE)+\n",
    "labs(title=(expression(paste(\"R\" ^2,\": variance explained by each component\")))) \n"
   ]
  },
  {
   "cell_type": "code",
   "execution_count": null,
   "metadata": {},
   "outputs": [],
   "source": [
    "# PCA Scores plot coloured by qualitative variables + 95% confidence elipses \n",
    "\n",
    "\n",
    "#groups <- Data_X[9]\n",
    "fviz_pca_ind(res.pca,\n",
    "             fill.ind = dataNamed_PS$Condition, col.ind = \"black\",\n",
    "             pointshape = 21, pointsize = 7,\n",
    "             addEllipses = TRUE, # Concentration ellipses\n",
    "             ellipse.type = \"confidence\",\n",
    "             ellipse.level = 0.95,\n",
    "             legend.title = \"Groups\",\n",
    "             mean.point = FALSE,\n",
    "              ellipse.border.remove = TRUE,\n",
    "             repel = TRUE\n",
    "             )+\n",
    "labs(title=\"PCA scores of pool sizes\")"
   ]
  },
  {
   "cell_type": "code",
   "execution_count": null,
   "metadata": {},
   "outputs": [],
   "source": [
    "# PCA loadings plot \n",
    "\n",
    "# Graph of variables. Positive correlated variables point to the same side of the plot. \n",
    "# Negative correlated variables point to opposite sides of the graph.\n",
    "\n",
    "fviz_pca_var(res.pca,\n",
    "             col.var = \"contrib\", # Color by contributions to the PC\n",
    "             gradient.cols = c(\"#00AFBB\", \"#E7B800\", \"#FC4E07\"),\n",
    "             repel = TRUE     # Avoid text overlapping\n",
    "             )+\n",
    "labs(title=\"PCA loadings of pool sizes\")\n"
   ]
  },
  {
   "cell_type": "markdown",
   "metadata": {},
   "source": [
    "## Two group data \n",
    "\n",
    "### Perform Welch t-test on High Confidence assigned metabolites"
   ]
  },
  {
   "cell_type": "code",
   "execution_count": null,
   "metadata": {},
   "outputs": [],
   "source": [
    "dataNamed_PS\n",
    "attach (dataNamed_PS)"
   ]
  },
  {
   "cell_type": "code",
   "execution_count": null,
   "metadata": {
    "scrolled": true
   },
   "outputs": [],
   "source": [
    "# Function to perform a Welch T-test on every column of data (compound) you specify, with Condition used as the groups\n",
    "\n",
    "Welch_ttest <- function(compound) {\n",
    "    \n",
    "    Wttest <- t.test(compound ~ Condition)\n",
    "     pval = Wttest$p.value\n",
    "    \n",
    "    return(pval)\n",
    "}\n",
    "\n",
    "\n",
    "# fill in dataNamed[3:1055] such that all columns of metabolite intensity data are calculated (use dataNamed)\n",
    "# - do not include metadata columns:\n",
    "\n",
    "Welch_ttest  <- sapply(dataNamed_PS[3:148], 'Welch_ttest')\n",
    "\n",
    "# Create dataframe of results of the Welch t-test\n",
    "TtestDF <- as.data.frame(Welch_ttest)\n",
    "\n",
    "# Make row name metabolite ID column\n",
    "TtestDF <- setDT(TtestDF, keep.rownames = \"Compound\")\n",
    "\n",
    "# Create a new dataframe with a column showing the Benjamini-Hochberg-corrected p-values\n",
    "BH_testDF <-mutate(TtestDF,BH_correctedVal = p.adjust(TtestDF$Welch_ttest,method=\"BH\") )\n",
    "\n",
    "# Order the dataframe according to the adjusted pvalues\n",
    "PoolSize_BH_testDF_orderedByPval <- BH_testDF[order(BH_testDF$Welch_ttest),]\n",
    "\n",
    "PoolSize_BH_testDF_orderedByPval \n",
    "# write a csv of this dataframe\n",
    "write.csv(PoolSize_BH_testDF_orderedByPval , file = \"Welch_BH_orderedResults_poolSizes.csv\")"
   ]
  },
  {
   "cell_type": "markdown",
   "metadata": {},
   "source": [
    "## Create graphs of pool sizes with uncorrected Welch t-test p-value ≤ 0.05 "
   ]
  },
  {
   "cell_type": "code",
   "execution_count": null,
   "metadata": {
    "scrolled": true
   },
   "outputs": [],
   "source": [
    "# Create a DF subselection of compounds with uncorrected Welch t-test pval of ≤ 0.05\n",
    "Ttest_Signif_PS <- PoolSize_BH_testDF_orderedByPval  %>%\n",
    "filter (Welch_ttest <= 0.05)\n",
    "\n",
    "# Select only the compounds with uncorrected Welch t-test pval of ≤ 0.05\n",
    "Significant_Compounds_PS <- t_poolsizeTable_noZ [t_poolsizeTable_noZ$Compound %in% Ttest_Signif_PS$Compound,]\n",
    "Significant_Compounds_PS\n",
    "\n",
    "# Append the t-test results\n",
    "Significant_Compounds_tResults_PS <- select (PoolSize_BH_testDF_orderedByPval,1,2,3)\n",
    "Significant_Compounds_PS=merge(Significant_Compounds_PS,Significant_Compounds_tResults_PS, by=\"Compound\")\n",
    "\n",
    "# Order the dataframe according to the adjusted pvalues\n",
    "Significant_Compounds_PS <- Significant_Compounds_PS[order(Significant_Compounds_PS$Welch_ttest),]\n",
    "Significant_Compounds_PS <- within(Significant_Compounds_PS, Compound <- reorder(Compound, Welch_ttest))# orders the facets in increasing order of Welch t-test\n",
    "\n",
    "# write a csv of this dataframe\n",
    "write.csv(Significant_Compounds_PS, file = \"Poolsize_Signif_Compounds_uncorrectedPval.csv\")\n",
    "\n",
    "# Reshape data wide > long (for ggplot graphs with facet)\n",
    "Significant_Compounds_PS_long <- melt(Significant_Compounds_PS, id.vars = c(\"Compound\",\"Welch_ttest\",\"BH_correctedVal\"))                    \n",
    "\n",
    "colnames(Significant_Compounds_PS_long) <- c(\"Compound\", \"Welch_ttest\",\"BH_correctedVal\",\"sample\", \"intensity\")              \n",
    "\n",
    "# Split sample column into 2 columns: condition and replicate number\n",
    "Significant_Compounds_PS_long <-Significant_Compounds_PS_long %>%\n",
    " separate(sample, c(\"Condition\", \"replicate\"), \"-\")\n"
   ]
  },
  {
   "cell_type": "markdown",
   "metadata": {},
   "source": [
    "### print pool size graphs of compounds with uncorrected Welch t-test pval of ≤ 0.05"
   ]
  },
  {
   "cell_type": "code",
   "execution_count": null,
   "metadata": {},
   "outputs": [],
   "source": [
    "# Pool sizes for compounds with uncorrected Welch t-test pval of ≤ 0.05\n",
    "\n",
    "options(repr.plot.width=15, repr.plot.height=15, repr.plot.res = 400, repr.plot.quality = 500, repr.plot.pointsize = 12)\n",
    "\n",
    "p<-ggplot(data=Significant_Compounds_PS_long, aes(x=Condition, y=intensity, fill = Condition)) +\n",
    "  geom_bar(position = 'dodge', stat = 'summary', fun = 'mean')+\n",
    "geom_errorbar(stat=\"summary\", \n",
    "                fun.min=function(x) {mean(x)-sd(x)/sqrt(length(x))}, \n",
    "                fun.max=function(x) {mean(x)+sd(x)/sqrt(length(x))}, position=position_dodge(.9), width = 0.3, colour=\"black\")+\n",
    "\n",
    "geom_point(aes(fill=Condition), size=2, shape=21, colour=\"black\", stroke = 1, alpha =1, \n",
    "           position=position_jitterdodge(jitter.width = 0.5, jitter.height = 0)) +\n",
    "\n",
    "\n",
    "labs(title=\"Pool sizes with significant uncorrected Welch t-test pval (0.05)\n",
    "Mean ± SEM\",x=\"Condition\", y = \"intensity\")+theme_classic()+\n",
    "theme(axis.text.x=element_text(angle=60, hjust=1))+\n",
    "theme(legend.position=\"none\")+\n",
    "facet_wrap(~Compound, ncol =6, scales=\"free\",labeller = label_wrap_gen())+\n",
    "theme(strip.text.x = element_text(size = 9, colour = \"black\", angle = 0))\n",
    "\n",
    "p"
   ]
  },
  {
   "cell_type": "markdown",
   "metadata": {},
   "source": [
    "### Save graphs of pool size compounds with uncorrected Welch t-test pval of ≤ 0.05 as PDF"
   ]
  },
  {
   "cell_type": "code",
   "execution_count": null,
   "metadata": {},
   "outputs": [],
   "source": [
    "pdf(file = \"poolSize_UncorrSignif.pdf\", width = 18, height = 10, family = \"Helvetica\") \n",
    "\n",
    "p<-ggplot(data=Significant_Compounds_PS_long, aes(x=Condition, y=intensity, fill = Condition)) +\n",
    "  geom_bar(position = 'dodge', stat = 'summary', fun = 'mean')+\n",
    "geom_errorbar(stat=\"summary\", \n",
    "                fun.min=function(x) {mean(x)-sd(x)/sqrt(length(x))}, \n",
    "                fun.max=function(x) {mean(x)+sd(x)/sqrt(length(x))}, position=position_dodge(.9), width = 0.3, colour=\"black\")+\n",
    "\n",
    "geom_point(aes(fill=Condition), size=2, shape=21, colour=\"black\", stroke = 1, alpha =1, \n",
    "           position=position_jitterdodge(jitter.width = 0.5, jitter.height = 0)) +\n",
    "\n",
    "\n",
    "labs(title=\"Pool sizes for compounds with significant uncorrected Welch t-test pval (0.05)\n",
    "Mean ± SEM\",x=\"Condition\", y = \"intensity\")+theme_classic()+\n",
    "theme(axis.text.x=element_text(angle=60, hjust=1))+\n",
    "theme(legend.position=\"none\")+\n",
    "facet_wrap(~Compound, ncol =6, scales=\"free\",labeller = label_wrap_gen())+\n",
    "theme(strip.text.x = element_text(size = 9, colour = \"black\", angle = 0))\n",
    "\n",
    "p\n",
    "dev.off()"
   ]
  }
 ],
 "metadata": {
  "kernelspec": {
   "display_name": "R",
   "language": "R",
   "name": "ir"
  },
  "language_info": {
   "codemirror_mode": "r",
   "file_extension": ".r",
   "mimetype": "text/x-r-source",
   "name": "R",
   "pygments_lexer": "r",
   "version": "4.0.2"
  }
 },
 "nbformat": 4,
 "nbformat_minor": 2
}
